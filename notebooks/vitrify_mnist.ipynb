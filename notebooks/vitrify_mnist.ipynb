{
 "cells": [
  {
   "cell_type": "markdown",
   "metadata": {},
   "source": [
    "# Vitrify for the MNIST Dataset"
   ]
  },
  {
   "cell_type": "markdown",
   "metadata": {},
   "source": [
    "## Imports"
   ]
  },
  {
   "cell_type": "code",
   "execution_count": 1,
   "metadata": {},
   "outputs": [
    {
     "name": "stderr",
     "output_type": "stream",
     "text": [
      "Using TensorFlow backend.\n"
     ]
    }
   ],
   "source": [
    "import os\n",
    "import sys\n",
    "\n",
    "# Untie local dependency\n",
    "cwd = os.getcwd().split(\"/\")\n",
    "local_repo_path = \"/\".join(cwd[:-1])\n",
    "sys.path.insert(0, local_repo_path)\n",
    "\n",
    "from src.models.multi_layer_perceptron import MultiLayerPerceptron\n",
    "from src.models.soft_decision_tree import SoftBinaryDecisionTree\n",
    "from src.models.variational_autoencoder import VariationalAutoEncoder\n",
    "from src.models.convolutional_dnn import ConvDNN\n",
    "from src.data.make_dataset import load_data, join_data\n",
    "from src.visualization.visualize import draw_tree\n",
    "from src.utils import balanced_sample_maker\n",
    "\n",
    "import numpy as np\n",
    "import pandas as pd\n",
    "import matplotlib.pyplot as plt\n",
    "import tensorflow as tf\n",
    "import keras.backend as K\n",
    "\n",
    "from sklearn.utils import shuffle"
   ]
  },
  {
   "cell_type": "markdown",
   "metadata": {},
   "source": [
    "## Get the MNIST data"
   ]
  },
  {
   "cell_type": "code",
   "execution_count": 2,
   "metadata": {},
   "outputs": [],
   "source": [
    "# Load the data (To download data from scratch, set already_downloaded=False)\n",
    "data = load_data(dataset=\"MNIST\", already_downloaded=True)\n",
    "\n",
    "# Get the number of input features\n",
    "n_rows, n_cols = np.shape(data[\"x_train\"])[1:]\n",
    "n_features = n_rows * n_cols\n",
    "n_classes = np.unique(data[\"y_train\"]).shape[0]"
   ]
  },
  {
   "cell_type": "markdown",
   "metadata": {},
   "source": [
    "Let's look at the structure of the data:"
   ]
  },
  {
   "cell_type": "code",
   "execution_count": 3,
   "metadata": {},
   "outputs": [
    {
     "name": "stdout",
     "output_type": "stream",
     "text": [
      "y_train_one_hot  ==> (50000, 10)\n",
      "x_test_flat  ==> (10000, 784)\n",
      "x_train  ==> (50000, 28, 28)\n",
      "x_test  ==> (10000, 28, 28)\n",
      "y_train  ==> (50000,)\n",
      "y_test_one_hot  ==> (10000, 10)\n",
      "y_test  ==> (10000,)\n",
      "x_valid  ==> (10000, 28, 28)\n",
      "y_valid  ==> (10000,)\n",
      "y_valid_one_hot  ==> (10000, 10)\n",
      "x_valid_flat  ==> (10000, 784)\n",
      "x_train_flat  ==> (50000, 784)\n"
     ]
    }
   ],
   "source": [
    "for key, array in data.items():\n",
    "    print(key, \" ==>\", np.shape(array))"
   ]
  },
  {
   "cell_type": "markdown",
   "metadata": {},
   "source": [
    "Here, the **data** variable is a dictionary, consisting of numpy arrays. Above we can see the shapes of the MNIST data in our dictionary. We can also inspect the other variables we created above:"
   ]
  },
  {
   "cell_type": "code",
   "execution_count": 4,
   "metadata": {},
   "outputs": [
    {
     "name": "stdout",
     "output_type": "stream",
     "text": [
      "n_rows:  28\n",
      "n_cols:  28\n",
      "n_features:  784\n",
      "n_classes:  10\n"
     ]
    }
   ],
   "source": [
    "print(\"n_rows: \", n_rows)\n",
    "print(\"n_cols: \", n_cols)\n",
    "print(\"n_features: \", n_features)\n",
    "print(\"n_classes: \", n_classes)"
   ]
  },
  {
   "cell_type": "markdown",
   "metadata": {},
   "source": [
    "Let's visualise the training data with their labels:"
   ]
  },
  {
   "cell_type": "code",
   "execution_count": 5,
   "metadata": {},
   "outputs": [
    {
     "data": {
      "text/plain": [
       "<Figure size 432x288 with 0 Axes>"
      ]
     },
     "metadata": {},
     "output_type": "display_data"
    },
    {
     "data": {
      "image/png": "[encoded data removed]",
      "text/plain": [
       "<Figure size 360x360 with 9 Axes>"
      ]
     },
     "metadata": {
      "needs_background": "light"
     },
     "output_type": "display_data"
    }
   ],
   "source": [
    "images_to_plot = 9\n",
    "random_indices = np.random.choice(range(50000), images_to_plot)\n",
    "\n",
    "sample_images = data[\"x_train_flat\"][random_indices, :]\n",
    "sample_labels = data[\"y_train\"][random_indices]\n",
    "\n",
    "plt.clf()\n",
    "plt.style.use(\"seaborn-muted\")\n",
    "\n",
    "fig, axes = plt.subplots(3, 3, \n",
    "                         figsize=(5,5),\n",
    "                         sharex=True, sharey=True,\n",
    "                         subplot_kw=dict(aspect=\"equal\"))\n",
    "\n",
    "for i in range(images_to_plot):\n",
    "    \n",
    "    subplot_row = i // 3 \n",
    "    subplot_col = i % 3  \n",
    "    ax = axes[subplot_row, subplot_col]\n",
    "\n",
    "    plottable_image = np.reshape(sample_images[i, :], (28, 28))\n",
    "    ax.imshow(plottable_image, cmap=\"gray_r\")\n",
    "    \n",
    "    ax.set_title(\"Digit Label: {}\".format(sample_labels[i]))\n",
    "    ax.set_xbound([0, 28])\n",
    "\n",
    "plt.tight_layout()\n",
    "plt.show()"
   ]
  },
  {
   "cell_type": "markdown",
   "metadata": {},
   "source": [
    "Thus, in summary, our training data (**\"x_train\"**) consists of 50000 28x28 images of handwritten images, with the labels saying what digit the image depicts (**\"y_train\"**). We also have a flattend version of the images (**\"x_train_flat\"**) and one-hot encoded labels (**\"y_train_one_hot\"**). This is the same for our validation and test data, both consisting of 10000 examples."
   ]
  },
  {
   "cell_type": "markdown",
   "metadata": {},
   "source": [
    "# Stage 1: Train the VAE"
   ]
  },
  {
   "cell_type": "markdown",
   "metadata": {},
   "source": [
    "Start off by initialising the VAE model:"
   ]
  },
  {
   "cell_type": "code",
   "execution_count": 6,
   "metadata": {},
   "outputs": [],
   "source": [
    "# Create VAE\n",
    "vae = VariationalAutoEncoder(\n",
    "    name = \"vae_mnist\",\n",
    "    num_inputs = n_features,\n",
    "    # If true, training info is outputted to stdout\n",
    "    keras_verbose = False,\n",
    "    # A summary of the NN is printed to stdout\n",
    "    print_model_summary = False,\n",
    "    # Size of latent dimension\n",
    "    latent_dim = 20,\n",
    "    # Specify the encoder layers [units, activation, dropout, l2, bias]\n",
    "    encoder_layers = [\n",
    "        [512, \"relu\", 0.0, 0.0, True, \"gaussian\"],\n",
    "        [256, \"relu\", 0.0, 0.0, True, \"gaussian\"],\n",
    "        [128, \"relu\", 0.0, 0.0, True, \"gaussian\"]\n",
    "    ],\n",
    "    # Specify the decoder layers [units, activation, dropout, l2, bias]\n",
    "    decoder_layers = [\n",
    "        [128, \"relu\", 0.0, 0.0, True, \"gaussian\"],\n",
    "        [256, \"relu\", 0.0, 0.0, True, \"gaussian\"],\n",
    "        [512, \"relu\", 0.0, 0.0, True, \"gaussian\"]\n",
    "    ],\n",
    "    # The final output layer's activation function\n",
    "    final_activation = \"sigmoid\",\n",
    "    # The maximum number of epochs to run\n",
    "    epochs = 1000,\n",
    "    # The batch size to use in the VAE\n",
    "    batch_size = 250,\n",
    "    # The learning rate used in optimisation\n",
    "    learning_rate = 0.001,\n",
    "    # If this many stagnant epochs are seen, stop training\n",
    "    stopping_patience = 10\n",
    ")"
   ]
  },
  {
   "cell_type": "markdown",
   "metadata": {},
   "source": [
    "Next, we train our model. By setting `load_model=True`, we load a previously trained model. If you want to train the VAE model from scratch, set `load_model=False`. The VAE does not receive any target data, seeing as it is not trying to predict the labels, but rather trying to reconstruct its input. Thus, we only pass the flattened training and validation data to the model."
   ]
  },
  {
   "cell_type": "code",
   "execution_count": 7,
   "metadata": {},
   "outputs": [
    {
     "name": "stdout",
     "output_type": "stream",
     "text": [
      "Loaded vae_mnist model from disk\n"
     ]
    }
   ],
   "source": [
    "# Train VAE\n",
    "vae.train(data[\"x_train_flat\"], data[\"x_valid_flat\"], load_model=True)"
   ]
  },
  {
   "cell_type": "code",
   "execution_count": 8,
   "metadata": {},
   "outputs": [
    {
     "name": "stdout",
     "output_type": "stream",
     "text": [
      "accuracy: Nan | loss: 99.6954173828125\n"
     ]
    }
   ],
   "source": [
    "# Evaluate VAE\n",
    "vae_results = vae.evaluate(data[\"x_test_flat\"])"
   ]
  },
  {
   "cell_type": "markdown",
   "metadata": {},
   "source": [
    "With our trained VAE model, we can generate new data. Here, we generate 20000 additional data points:"
   ]
  },
  {
   "cell_type": "code",
   "execution_count": 9,
   "metadata": {},
   "outputs": [
    {
     "name": "stdout",
     "output_type": "stream",
     "text": [
      "(20000, 784)\n"
     ]
    }
   ],
   "source": [
    "# Generate new data\n",
    "x_gen_flat = vae.sample(20000)\n",
    "print(np.shape(x_gen_flat))"
   ]
  },
  {
   "cell_type": "markdown",
   "metadata": {},
   "source": [
    "Lets visualise some results from our VAE model and the generated data:"
   ]
  },
  {
   "cell_type": "code",
   "execution_count": 10,
   "metadata": {},
   "outputs": [
    {
     "data": {
      "text/plain": [
       "<Figure size 432x288 with 0 Axes>"
      ]
     },
     "metadata": {},
     "output_type": "display_data"
    },
    {
     "data": {
      "image/png": "[encoded data removed]",
      "text/plain": [
       "<Figure size 360x360 with 9 Axes>"
      ]
     },
     "metadata": {
      "needs_background": "light"
     },
     "output_type": "display_data"
    }
   ],
   "source": [
    "# Reshape to images\n",
    "x_gen = np.array([np.reshape(x_gen_flat[i], [n_rows, n_cols]) for i in range(len(x_gen_flat))])\n",
    "\n",
    "images_to_plot = 9\n",
    "random_indices = np.random.choice(range(20000), images_to_plot)\n",
    "\n",
    "sample_images = x_gen[random_indices, :]\n",
    "\n",
    "plt.clf()\n",
    "plt.style.use(\"seaborn-muted\")\n",
    "\n",
    "fig, axes = plt.subplots(3, 3, \n",
    "                         figsize=(5,5),\n",
    "                         sharex=True, sharey=True,\n",
    "                         subplot_kw=dict(aspect=\"equal\"))\n",
    "\n",
    "for i in range(images_to_plot):\n",
    "    \n",
    "    subplot_row = i // 3 \n",
    "    subplot_col = i % 3  \n",
    "    ax = axes[subplot_row, subplot_col]\n",
    "\n",
    "    plottable_image = np.reshape(sample_images[i, :], (28, 28))\n",
    "    ax.imshow(plottable_image, cmap=\"gray_r\")\n",
    "    \n",
    "    ax.set_xbound([0, 28])\n",
    "\n",
    "plt.tight_layout()\n",
    "plt.show()"
   ]
  },
  {
   "cell_type": "markdown",
   "metadata": {},
   "source": [
    "Here we can see some of the generated images from our VAE model. They are still unlabelled."
   ]
  },
  {
   "cell_type": "markdown",
   "metadata": {},
   "source": [
    "# Stage 2: Train the MLP and CNN"
   ]
  },
  {
   "cell_type": "markdown",
   "metadata": {},
   "source": [
    "Start off by initialising the MLP model:"
   ]
  },
  {
   "cell_type": "code",
   "execution_count": 11,
   "metadata": {},
   "outputs": [],
   "source": [
    "# Create MLP\n",
    "mlp = MultiLayerPerceptron(\n",
    "    name = \"mlp_mnist\",\n",
    "    num_inputs = n_features,\n",
    "    num_outputs = n_classes,\n",
    "    # If true, training info is outputted to stdout\n",
    "    keras_verbose = False,\n",
    "    # A summary of the NN is printed to stdout\n",
    "    print_model_summary = False,\n",
    "    # ff_layers = [units, activation, regularization, dropout, use_bias]\n",
    "    ff_layers = [\n",
    "        [512, \"relu\", 0.0, 0.2, True, \"gaussian\"],\n",
    "        [512, \"relu\", 0.0, 0.2, True, \"gaussian\"],\n",
    "        [512, \"relu\", 0.0, 0.2, True, \"gaussian\"]\n",
    "    ],\n",
    "    # The final output layer's activation function\n",
    "    final_activation = \"softmax\",\n",
    "    # The objective function for the NN\n",
    "    objective = \"categorical_crossentropy\",\n",
    "    # The maximum number of epochs to run\n",
    "    epochs = 20,\n",
    "    # The batch size to use in the NN\n",
    "    batch_size = 128,\n",
    "    # The learning rate used in optimization\n",
    "    learning_rate = 0.001,\n",
    "    # If this many stagnant epochs are seen, stop training\n",
    "    stopping_patience = 20\n",
    ")"
   ]
  },
  {
   "cell_type": "markdown",
   "metadata": {},
   "source": [
    "The same format as with the VAE applies, except here we provide the model with the necessary targets:"
   ]
  },
  {
   "cell_type": "code",
   "execution_count": 12,
   "metadata": {},
   "outputs": [
    {
     "name": "stdout",
     "output_type": "stream",
     "text": [
      "Loaded mlp_mnist model from disk\n"
     ]
    }
   ],
   "source": [
    "# Train MLP\n",
    "mlp.train(\n",
    "    data[\"x_train_flat\"], data[\"y_train_one_hot\"],\n",
    "    data[\"x_valid_flat\"], data[\"y_valid_one_hot\"], load_model=True)"
   ]
  },
  {
   "cell_type": "code",
   "execution_count": 13,
   "metadata": {},
   "outputs": [
    {
     "name": "stdout",
     "output_type": "stream",
     "text": [
      "accuracy: 98.15% | loss: 0.08506726239238639\n"
     ]
    }
   ],
   "source": [
    "# Evaluate MLP\n",
    "mlp_results = mlp.evaluate(data[\"x_test_flat\"], data[\"y_test_one_hot\"])"
   ]
  },
  {
   "cell_type": "markdown",
   "metadata": {},
   "source": [
    "The MLP model achieved an accuracy of 98.15% on the test set. Next, we do the same for the CNN model:"
   ]
  },
  {
   "cell_type": "code",
   "execution_count": 14,
   "metadata": {},
   "outputs": [],
   "source": [
    "# Create CNN\n",
    "cnn = ConvDNN(\n",
    "    name = \"cnn_mnist\",\n",
    "    img_rows = n_rows,\n",
    "    img_cols = n_cols,\n",
    "    num_outputs = n_classes,\n",
    "    # If true, training info is outputted to stdout\n",
    "    keras_verbose = False,\n",
    "    # A summary of the NN is printed to stdout\n",
    "    print_model_summary = False,\n",
    "    # Convolutional layers\n",
    "    conv_layers = [\n",
    "        # Layer, filters, kernel size, strides, padding, activation, use bias, kernel reg, bias reg, activity reg,\n",
    "        # dropout (after layers)\n",
    "        [\"conv2d\", 32, (3, 3), (1, 1), \"valid\", \"relu\", True, 0.0, 0.0, 0.0, 0.0],\n",
    "        [\"conv2d\", 64, (3, 3), (1, 1), \"valid\", \"relu\", True, 0.0, 0.0, 0.0, 0.0],\n",
    "        # Layer, pool size, stride, padding, dropout\n",
    "        [\"max_pool2d\", (2, 2), None, \"valid\", 0.25],\n",
    "    ],\n",
    "    # ff_layers = [units, activation, regularization, dropout, use_bias]\n",
    "    ff_layers = [\n",
    "        [128, \"relu\", 0.0, 0.2, True, \"normal\"]\n",
    "    ],\n",
    "    # The final output layer's activation function\n",
    "    final_activation = \"softmax\",\n",
    "    # The objective function for the NN\n",
    "    objective = \"categorical_crossentropy\",\n",
    "    # The maximum number of epochs to run\n",
    "    epochs = 20,\n",
    "    # The batch size to use in the NN\n",
    "    batch_size = 128,\n",
    "    # The learning rate used in optimization\n",
    "    learning_rate = 0.001,\n",
    "    # If this many stagnant epochs are seen, stop training\n",
    "    stopping_patience = 20\n",
    ")"
   ]
  },
  {
   "cell_type": "markdown",
   "metadata": {},
   "source": [
    "For the CNN model, we do not use the flattened training data:"
   ]
  },
  {
   "cell_type": "code",
   "execution_count": 15,
   "metadata": {},
   "outputs": [
    {
     "name": "stdout",
     "output_type": "stream",
     "text": [
      "Loaded cnn_mnist model from disk\n"
     ]
    }
   ],
   "source": [
    "# Train CNN\n",
    "cnn.train(\n",
    "    data[\"x_train\"], data[\"y_train_one_hot\"],\n",
    "    data[\"x_valid\"], data[\"y_valid_one_hot\"], load_model=True)"
   ]
  },
  {
   "cell_type": "code",
   "execution_count": 16,
   "metadata": {},
   "outputs": [
    {
     "name": "stdout",
     "output_type": "stream",
     "text": [
      "accuracy: 99.21% | loss: 0.034443770900733604\n"
     ]
    }
   ],
   "source": [
    "# Evaluate CNN\n",
    "cnn_results = cnn.evaluate(data[\"x_test\"], data[\"y_test_one_hot\"])"
   ]
  },
  {
   "cell_type": "markdown",
   "metadata": {},
   "source": [
    "The CNN model slightly outperformed the standard MLP model, achieving an accuracy of 99.21% on the test set."
   ]
  },
  {
   "cell_type": "markdown",
   "metadata": {},
   "source": [
    "# Stage 3: Produce soft targets for our interpretable model"
   ]
  },
  {
   "cell_type": "markdown",
   "metadata": {},
   "source": [
    "We will now use our trained CNN model to:\n",
    "1. Relabel our original training data, **x_train**\n",
    "2. Give labels to our unlabelled, generated data, **x_gen**"
   ]
  },
  {
   "cell_type": "code",
   "execution_count": 17,
   "metadata": {},
   "outputs": [],
   "source": [
    "# Get CNN labels\n",
    "y_cnn_train = cnn.predict(data[\"x_train\"])\n",
    "y_gen = cnn.predict(x_gen)"
   ]
  },
  {
   "cell_type": "markdown",
   "metadata": {},
   "source": [
    "Now we combine both the original training data and the generated data, as well as their new soft target labels, and shuffle them:"
   ]
  },
  {
   "cell_type": "code",
   "execution_count": 18,
   "metadata": {},
   "outputs": [
    {
     "name": "stdout",
     "output_type": "stream",
     "text": [
      "x_both ==> (70000, 784)\n",
      "y_both ==> (70000, 10)\n"
     ]
    }
   ],
   "source": [
    "# Combine x_train and x_gen\n",
    "x_both = join_data([data[\"x_train\"], x_gen])\n",
    "\n",
    "# Flatten them to use it with our interpretable model\n",
    "x_both = x_both.reshape((x_both.shape[0], -1))\n",
    "\n",
    "# Combine y_cnn_train and y_gen\n",
    "y_both = join_data([y_cnn_train, y_gen])\n",
    "\n",
    "# Shuffle the data\n",
    "x_both, y_both = shuffle(x_both, y_both)\n",
    "\n",
    "print(\"x_both ==>\", np.shape(x_both))\n",
    "print(\"y_both ==>\", np.shape(y_both))"
   ]
  },
  {
   "cell_type": "markdown",
   "metadata": {},
   "source": [
    "Thus, we have increased our training data from 50000 samples to 70000, where each sample now has a soft target produced by the CNN model, which we are going to approximate."
   ]
  },
  {
   "cell_type": "markdown",
   "metadata": {},
   "source": [
    "# Stage 4: Train our interpretable model, the SDT"
   ]
  },
  {
   "cell_type": "markdown",
   "metadata": {},
   "source": [
    "For the sake of comparison, we will train three separate models:\n",
    "1. SDT using only the original data with original hard targets.\n",
    "2. SDT using only the original data with new soft targets (provided by the CNN in the third stage).\n",
    "3. SDT using the generated and the original data with soft targets."
   ]
  },
  {
   "cell_type": "markdown",
   "metadata": {},
   "source": [
    "## 1) SDT using only the original data with original hard targets"
   ]
  },
  {
   "cell_type": "code",
   "execution_count": 19,
   "metadata": {},
   "outputs": [],
   "source": [
    "# Create SDT\n",
    "sdt_raw = SoftBinaryDecisionTree(\n",
    "    name = \"sdt_raw_mnist\",\n",
    "    num_inputs = n_features,\n",
    "    num_outputs = n_classes,\n",
    "    # If true, training info is outputted to stdout\n",
    "    keras_verbose = False,\n",
    "    # A summary of the NN is printed to stdout\n",
    "    print_model_summary = False,\n",
    "    # Hyperparameters\n",
    "    max_depth = 4,\n",
    "    penalty_strength = 1e+1,\n",
    "    penalty_decay = 0.25,\n",
    "    inv_temp = 0.01,\n",
    "    ema_win_size = 1000,\n",
    "    # The learning rate used in optimization\n",
    "    learning_rate = 5e-03,\n",
    "    epochs = 40,\n",
    "    batch_size = 4,\n",
    "    # If this many stagnant epochs are seen, stop training\n",
    "    stopping_patience = 20\n",
    ")"
   ]
  },
  {
   "cell_type": "markdown",
   "metadata": {},
   "source": [
    "Hyperparameters:\n",
    "- `max_depth`: the maximum depth of the tree in terms of its inner nodes. This excludes leaves.\n",
    "- `penalty_strength`: regularisation penalty strength.\n",
    "- `penalty_decay`: regularisation penalty decay as a function of depth.\n",
    "- `inv_temp`: scale the logits of the inner nodes to avoid very soft decisions.\n",
    "- `ema_win_size`: scaling factor to the default size of the window used to calculate moving averages (growing exponentially with depth) of node and path probabilities.\n",
    "- `batch_size`: we use a small one, because with increasing depth and thus a large amount of leaf bigots, larger batch sizes cause their loss terms to be scaled down too much by averaging, which results in poor optimisation properties. "
   ]
  },
  {
   "cell_type": "code",
   "execution_count": 20,
   "metadata": {},
   "outputs": [
    {
     "name": "stdout",
     "output_type": "stream",
     "text": [
      "Built tree has 16 leaves out of 31 nodes\n",
      "INFO:tensorflow:Restoring parameters from /home/zander/thesis/vitrify/models/sdt_raw_mnist/sdt_raw_mnist\n",
      "Loaded sdt_raw_mnist model from disk\n"
     ]
    }
   ],
   "source": [
    "# Train SDT RAW\n",
    "sdt_raw.train(\n",
    "    data[\"x_train_flat\"], data[\"y_train_one_hot\"],\n",
    "    data[\"x_valid_flat\"], data[\"y_valid_one_hot\"], load_model=True)"
   ]
  },
  {
   "cell_type": "code",
   "execution_count": 21,
   "metadata": {},
   "outputs": [
    {
     "name": "stdout",
     "output_type": "stream",
     "text": [
      "accuracy: 78.88% | loss: 17.666462990570068\n"
     ]
    }
   ],
   "source": [
    "# Evaluate SDT RAW\n",
    "sdt_raw_results = sdt_raw.evaluate(data[\"x_test_flat\"], data[\"y_test_one_hot\"])"
   ]
  },
  {
   "cell_type": "markdown",
   "metadata": {},
   "source": [
    "The accuracy of our trained SDT on the original data and labels is 78.88%."
   ]
  },
  {
   "cell_type": "markdown",
   "metadata": {},
   "source": [
    "## 2) SDT using only the original data with new soft targets (provided by the CNN in the third stage)"
   ]
  },
  {
   "cell_type": "code",
   "execution_count": 22,
   "metadata": {},
   "outputs": [],
   "source": [
    "# Create SDT CNN\n",
    "sdt_cnn = SoftBinaryDecisionTree(\n",
    "    name = \"sdt_cnn_mnist\",\n",
    "    num_inputs = n_features,\n",
    "    num_outputs = n_classes\n",
    ")"
   ]
  },
  {
   "cell_type": "markdown",
   "metadata": {},
   "source": [
    "Note that although the model parameters are hidden in the implementation above, they are the same as the first SDT. We now train this model with the soft targets from the CNN, but still use the hard targets in validation and testing."
   ]
  },
  {
   "cell_type": "code",
   "execution_count": 23,
   "metadata": {},
   "outputs": [
    {
     "name": "stdout",
     "output_type": "stream",
     "text": [
      "Built tree has 16 leaves out of 31 nodes\n",
      "INFO:tensorflow:Restoring parameters from /home/zander/thesis/vitrify/models/sdt_cnn_mnist/sdt_cnn_mnist\n",
      "Loaded sdt_cnn_mnist model from disk\n"
     ]
    }
   ],
   "source": [
    "# Train SDT CNN\n",
    "sdt_cnn.train(\n",
    "    data[\"x_train_flat\"], y_cnn_train,\n",
    "    data[\"x_valid_flat\"], data[\"y_valid_one_hot\"], load_model=True)"
   ]
  },
  {
   "cell_type": "code",
   "execution_count": 24,
   "metadata": {},
   "outputs": [
    {
     "name": "stdout",
     "output_type": "stream",
     "text": [
      "accuracy: 90.94% | loss: 8.52423148174286\n"
     ]
    }
   ],
   "source": [
    "# Evaluate SDT CNN\n",
    "sdt_cnn_results = sdt_cnn.evaluate(data[\"x_test_flat\"], data[\"y_test_one_hot\"])"
   ]
  },
  {
   "cell_type": "markdown",
   "metadata": {},
   "source": [
    "By using the soft targets, we increased the accuracy of our interpretable SDT from 78.88% to 90.94%. We can now also visualise our models and gain some insights into their decision making:"
   ]
  },
  {
   "cell_type": "code",
   "execution_count": 25,
   "metadata": {},
   "outputs": [
    {
     "data": {
      "image/png": "[encoded data removed]",
      "text/plain": [
       "<Figure size 1152x576 with 31 Axes>"
      ]
     },
     "metadata": {
      "needs_background": "light"
     },
     "output_type": "display_data"
    }
   ],
   "source": [
    "draw_tree(sdt_cnn, n_rows, n_cols)"
   ]
  },
  {
   "cell_type": "markdown",
   "metadata": {},
   "source": [
    "The image above portrays our model with its various filters. Now lets see how this model tries to classify a \"9\":"
   ]
  },
  {
   "cell_type": "code",
   "execution_count": 26,
   "metadata": {},
   "outputs": [
    {
     "data": {
      "image/png": "[encoded data removed]",
      "text/plain": [
       "<Figure size 1152x576 with 32 Axes>"
      ]
     },
     "metadata": {
      "needs_background": "light"
     },
     "output_type": "display_data"
    }
   ],
   "source": [
    "# This is the digit we wish to see for our model\n",
    "digit = 9\n",
    "\n",
    "sample_index = np.random.choice(np.where(np.argmax(data[\"y_test_one_hot\"], axis=1) == digit)[0])\n",
    "input_img = data[\"x_test\"][sample_index]\n",
    "\n",
    "draw_tree(sdt_cnn, n_rows, n_cols, input_img=input_img)"
   ]
  },
  {
   "cell_type": "markdown",
   "metadata": {},
   "source": [
    "This now shows the decision path for our SDT model in trying to classify the input image. To further highlight how this decision is made, we can set `show_correlation=True`: "
   ]
  },
  {
   "cell_type": "code",
   "execution_count": 27,
   "metadata": {},
   "outputs": [
    {
     "data": {
      "image/png": "[encoded data removed]",
      "text/plain": [
       "<Figure size 1152x576 with 32 Axes>"
      ]
     },
     "metadata": {
      "needs_background": "light"
     },
     "output_type": "display_data"
    }
   ],
   "source": [
    "draw_tree(sdt_cnn, n_rows, n_cols, input_img=input_img, show_correlation=True)"
   ]
  },
  {
   "cell_type": "markdown",
   "metadata": {},
   "source": [
    "On the maximum probability path, there are now correlations of the input image with the node filters. The homogeneous areas give a frame of reference for the colour where the filter pixels are zero. This is set up to correspond to the black areas in the input image. All the lighter pixels from this correspond to positive correlation coefficients. All the darker pixels correspond to negative correlation coefficients. In the last input-masked filter on the path to prediction, one can draw insight from how this model recognises \"9\" from \"7\". The lighter correlations (positive correlations) in the bottom loop of the filter, differentiates the \"9\" from the \"7\", which makes sense."
   ]
  },
  {
   "cell_type": "markdown",
   "metadata": {},
   "source": [
    "## 3) SDT using the generated and the original data with soft targets"
   ]
  },
  {
   "cell_type": "code",
   "execution_count": 28,
   "metadata": {},
   "outputs": [],
   "source": [
    "# Create SDT VAE\n",
    "sdt_vae = SoftBinaryDecisionTree(\n",
    "    name = \"sdt_cnn_vae_mnist\",\n",
    "    num_inputs = n_features,\n",
    "    num_outputs = n_classes\n",
    ")"
   ]
  },
  {
   "cell_type": "code",
   "execution_count": 29,
   "metadata": {},
   "outputs": [
    {
     "name": "stdout",
     "output_type": "stream",
     "text": [
      "Built tree has 16 leaves out of 31 nodes\n",
      "INFO:tensorflow:Restoring parameters from /home/zander/thesis/vitrify/models/sdt_cnn_vae_mnist/sdt_cnn_vae_mnist\n",
      "Loaded sdt_cnn_vae_mnist model from disk\n"
     ]
    }
   ],
   "source": [
    "# Train SDT VAE\n",
    "sdt_vae.train(\n",
    "    x_both, y_both,\n",
    "    data[\"x_valid_flat\"], data[\"y_valid_one_hot\"], load_model=True)"
   ]
  },
  {
   "cell_type": "code",
   "execution_count": 30,
   "metadata": {},
   "outputs": [
    {
     "name": "stdout",
     "output_type": "stream",
     "text": [
      "accuracy: 87.17% | loss: 9.30959286956787\n"
     ]
    }
   ],
   "source": [
    "# Evaluate SDT VAE\n",
    "sdt_vae_results = sdt_vae.evaluate(data[\"x_test_flat\"], data[\"y_test_one_hot\"])"
   ]
  },
  {
   "cell_type": "markdown",
   "metadata": {},
   "source": [
    "The addition of the generated data to our SDT did not perform better than the SDT without the generated data, achieving an accuracy of 87.17% on the test data. We suspect the following reasons for this:\n",
    "\n",
    "1. The MNIST dataset is already a large dataset, consisting of 50000 images without the validation and test data. The addition of generated data did not aid in achieving better generalisability, and instead added more noise to the model. The noise is introduced from the fact that although the generated images are good, they are not perfect, with some being blurry.\n",
    "2. The slight class imbalance in the generated data could also potentially skew the model, giving more certainty to oversampled classes.\n",
    "3. The accuracy achieved by the SDT without generated data might be the upper limit of what this model is able to achieve. Although this model is a good function approximator, it would be unreasonable to expect from it to outperform the DNN or CNN, even with additional data. This again showcases the trade-off between predictability and interpretability.\n",
    "\n",
    "From point 1 above, we decided to conduct another experiment, where we significantly downsampled the original data to mimic a scenario where one does not have enough data at one's disposal."
   ]
  },
  {
   "cell_type": "markdown",
   "metadata": {},
   "source": [
    "# Downsampling of the data"
   ]
  },
  {
   "cell_type": "code",
   "execution_count": 31,
   "metadata": {},
   "outputs": [
    {
     "name": "stdout",
     "output_type": "stream",
     "text": [
      "y_train_one_hot_ds  ==> (10000, 10)\n",
      "x_test_flat_ds  ==> (5000, 784)\n",
      "x_train_ds  ==> (10000, 28, 28)\n",
      "x_test_ds  ==> (5000, 28, 28)\n",
      "y_train_ds  ==> (10000,)\n",
      "y_test_one_hot_ds  ==> (5000, 10)\n",
      "y_test_ds  ==> (5000,)\n",
      "x_valid_ds  ==> (5000, 28, 28)\n",
      "y_valid_ds  ==> (5000,)\n",
      "y_valid_one_hot_ds  ==> (5000, 10)\n",
      "x_valid_flat_ds  ==> (5000, 784)\n",
      "x_train_flat_ds  ==> (10000, 784)\n"
     ]
    }
   ],
   "source": [
    "# Downsample the data\n",
    "x_train_flat_ds, y_train_ds, indices = balanced_sample_maker(data[\"x_train_flat\"], data[\"y_train\"], 10000,\n",
    "                                                             random_seed=1234)\n",
    "\n",
    "x_valid_flat_ds, y_valid_ds, indices = balanced_sample_maker(data[\"x_valid_flat\"], data[\"y_valid\"], 5000,\n",
    "                                                             random_seed=1234)\n",
    "\n",
    "x_test_flat_ds, y_test_ds, indices = balanced_sample_maker(data[\"x_test_flat\"], data[\"y_test\"], 5000,\n",
    "                                                           random_seed=1234)\n",
    "\n",
    "# Create other data\n",
    "x_train_ds = x_train_flat_ds.reshape((x_train_flat_ds.shape[0], n_rows, n_cols))\n",
    "y_train_one_hot_ds = tf.keras.utils.to_categorical(y_train_ds, n_classes)\n",
    "\n",
    "x_valid_ds = x_valid_flat_ds.reshape((x_valid_flat_ds.shape[0], n_rows, n_cols))\n",
    "y_valid_one_hot_ds = tf.keras.utils.to_categorical(y_valid_ds, n_classes)\n",
    "\n",
    "x_test_ds = x_test_flat_ds.reshape((x_test_flat_ds.shape[0], n_rows, n_cols))\n",
    "y_test_one_hot_ds = tf.keras.utils.to_categorical(y_test_ds, n_classes)\n",
    "\n",
    "# Print shapes\n",
    "print(\"y_train_one_hot_ds\", \" ==>\", np.shape(y_train_one_hot_ds))\n",
    "print(\"x_test_flat_ds\", \" ==>\", np.shape(x_test_flat_ds))\n",
    "print(\"x_train_ds\", \" ==>\", np.shape(x_train_ds))\n",
    "print(\"x_test_ds\", \" ==>\", np.shape(x_test_ds))\n",
    "print(\"y_train_ds\", \" ==>\", np.shape(y_train_ds))\n",
    "print(\"y_test_one_hot_ds\", \" ==>\", np.shape(y_test_one_hot_ds))\n",
    "print(\"y_test_ds\", \" ==>\", np.shape(y_test_ds))\n",
    "print(\"x_valid_ds\", \" ==>\", np.shape(x_valid_ds))\n",
    "print(\"y_valid_ds\", \" ==>\", np.shape(y_valid_ds))\n",
    "print(\"y_valid_one_hot_ds\", \" ==>\", np.shape(y_valid_one_hot_ds))\n",
    "print(\"x_valid_flat_ds\", \" ==>\", np.shape(x_valid_flat_ds))\n",
    "print(\"x_train_flat_ds\", \" ==>\", np.shape(x_train_flat_ds))"
   ]
  },
  {
   "cell_type": "markdown",
   "metadata": {},
   "source": [
    "Thus, we have created new data variables, each appended with \"ds\". We will now use these variables and repeat the _vitrify_ process."
   ]
  },
  {
   "cell_type": "markdown",
   "metadata": {},
   "source": [
    "# Stage 1: Train the VAE"
   ]
  },
  {
   "cell_type": "markdown",
   "metadata": {},
   "source": [
    "Again we start off by initialising the VAE model. Note the name change."
   ]
  },
  {
   "cell_type": "code",
   "execution_count": 32,
   "metadata": {},
   "outputs": [],
   "source": [
    "# Clear our current Keras session\n",
    "K.clear_session()\n",
    "\n",
    "# Create VAE\n",
    "vae = VariationalAutoEncoder(\n",
    "    name = \"vae_mnist_ds\",\n",
    "    num_inputs = n_features,\n",
    "    # If true, training info is outputted to stdout\n",
    "    keras_verbose = False,\n",
    "    # A summary of the NN is printed to stdout\n",
    "    print_model_summary = False,\n",
    "    # Size of latent dimension\n",
    "    latent_dim = 20,\n",
    "    # Specify the encoder layers [units, activation, dropout, l2, bias]\n",
    "    encoder_layers = [\n",
    "        [512, \"relu\", 0.0, 0.0, True, \"gaussian\"],\n",
    "        [256, \"relu\", 0.0, 0.0, True, \"gaussian\"],\n",
    "        [128, \"relu\", 0.0, 0.0, True, \"gaussian\"]\n",
    "    ],\n",
    "    # Specify the decoder layers [units, activation, dropout, l2, bias]\n",
    "    decoder_layers = [\n",
    "        [128, \"relu\", 0.0, 0.0, True, \"gaussian\"],\n",
    "        [256, \"relu\", 0.0, 0.0, True, \"gaussian\"],\n",
    "        [512, \"relu\", 0.0, 0.0, True, \"gaussian\"]\n",
    "    ],\n",
    "    # The final output layer's activation function\n",
    "    final_activation = \"sigmoid\",\n",
    "    # The maximum number of epochs to run\n",
    "    epochs = 1000,\n",
    "    # The batch size to use in the VAE\n",
    "    batch_size = 250,\n",
    "    # The learning rate used in optimisation\n",
    "    learning_rate = 0.001,\n",
    "    # If this many stagnant epochs are seen, stop training\n",
    "    stopping_patience = 10\n",
    ")"
   ]
  },
  {
   "cell_type": "code",
   "execution_count": 33,
   "metadata": {},
   "outputs": [
    {
     "name": "stdout",
     "output_type": "stream",
     "text": [
      "Loaded vae_mnist_ds model from disk\n"
     ]
    }
   ],
   "source": [
    "# Train VAE\n",
    "vae.train(x_train_flat_ds, x_valid_flat_ds, load_model=True)"
   ]
  },
  {
   "cell_type": "code",
   "execution_count": 34,
   "metadata": {},
   "outputs": [
    {
     "name": "stdout",
     "output_type": "stream",
     "text": [
      "accuracy: Nan | loss: 108.77416545410156\n"
     ]
    }
   ],
   "source": [
    "# Evaluate VAE\n",
    "vae_results = vae.evaluate(x_test_flat_ds)"
   ]
  },
  {
   "cell_type": "markdown",
   "metadata": {},
   "source": [
    "With our trained VAE model, we can generate new data. Here we generate 40000 additional data points:"
   ]
  },
  {
   "cell_type": "code",
   "execution_count": 35,
   "metadata": {},
   "outputs": [
    {
     "name": "stdout",
     "output_type": "stream",
     "text": [
      "(40000, 784)\n"
     ]
    }
   ],
   "source": [
    "# Generate new data\n",
    "x_gen_flat = vae.sample(40000)\n",
    "print(np.shape(x_gen_flat))"
   ]
  },
  {
   "cell_type": "code",
   "execution_count": 36,
   "metadata": {},
   "outputs": [
    {
     "name": "stdout",
     "output_type": "stream",
     "text": [
      "(40000, 28, 28)\n"
     ]
    }
   ],
   "source": [
    "# Reshape to images\n",
    "x_gen = np.array([np.reshape(x_gen_flat[i], [n_rows, n_cols]) for i in range(len(x_gen_flat))])\n",
    "print(np.shape(x_gen))"
   ]
  },
  {
   "cell_type": "markdown",
   "metadata": {},
   "source": [
    "# Stage 2: Train the CNN"
   ]
  },
  {
   "cell_type": "code",
   "execution_count": 37,
   "metadata": {},
   "outputs": [],
   "source": [
    "# Create CNN\n",
    "cnn = ConvDNN(\n",
    "    name = \"cnn_mnist_ds\",\n",
    "    img_rows = n_rows,\n",
    "    img_cols = n_cols,\n",
    "    num_outputs = n_classes,\n",
    "    # If true, training info is outputted to stdout\n",
    "    keras_verbose = False,\n",
    "    # A summary of the NN is printed to stdout\n",
    "    print_model_summary = False,\n",
    "    # Convolutional layers\n",
    "    conv_layers = [\n",
    "        # Layer, filters, kernel size, strides, padding, activation, use bias, kernel reg, bias reg, activity reg,\n",
    "        # dropout (after layers)\n",
    "        [\"conv2d\", 32, (3, 3), (1, 1), \"valid\", \"relu\", True, 0.0, 0.0, 0.0, 0.0],\n",
    "        [\"conv2d\", 64, (3, 3), (1, 1), \"valid\", \"relu\", True, 0.0, 0.0, 0.0, 0.0],\n",
    "        # Layer, pool size, stride, padding, dropout\n",
    "        [\"max_pool2d\", (2, 2), None, \"valid\", 0.25],\n",
    "    ],\n",
    "    # ff_layers = [units, activation, regularization, dropout, use_bias]\n",
    "    ff_layers = [\n",
    "        [128, \"relu\", 0.0, 0.2, True, \"normal\"]\n",
    "    ],\n",
    "    # The final output layer's activation function\n",
    "    final_activation = \"softmax\",\n",
    "    # The objective function for the NN\n",
    "    objective = \"categorical_crossentropy\",\n",
    "    # The maximum number of epochs to run\n",
    "    epochs = 20,\n",
    "    # The batch size to use in the NN\n",
    "    batch_size = 128,\n",
    "    # The learning rate used in optimization\n",
    "    learning_rate = 0.001,\n",
    "    # If this many stagnant epochs are seen, stop training\n",
    "    stopping_patience = 20\n",
    ")"
   ]
  },
  {
   "cell_type": "markdown",
   "metadata": {},
   "source": [
    "For the CNN model, we do not use the flattenend training data:"
   ]
  },
  {
   "cell_type": "code",
   "execution_count": 38,
   "metadata": {},
   "outputs": [
    {
     "name": "stdout",
     "output_type": "stream",
     "text": [
      "Loaded cnn_mnist_ds model from disk\n"
     ]
    }
   ],
   "source": [
    "# Train CNN\n",
    "cnn.train(\n",
    "    x_train_ds, y_train_one_hot_ds,\n",
    "    x_valid_ds, y_valid_one_hot_ds, load_model=True)"
   ]
  },
  {
   "cell_type": "code",
   "execution_count": 39,
   "metadata": {},
   "outputs": [
    {
     "name": "stdout",
     "output_type": "stream",
     "text": [
      "accuracy: 98.20% | loss: 0.058298175573349\n"
     ]
    }
   ],
   "source": [
    "# Evaluate CNN\n",
    "cnn_results = cnn.evaluate(x_test_ds, y_test_one_hot_ds)"
   ]
  },
  {
   "cell_type": "markdown",
   "metadata": {},
   "source": [
    "# Stage 3: Produce soft targets for our interpretable model"
   ]
  },
  {
   "cell_type": "markdown",
   "metadata": {},
   "source": [
    "We will now use our trained CNN model to:\n",
    "1. Relabel our original training data, **x_train_ds**\n",
    "2. Give labels to our unlabelled, generated data, **x_gen**"
   ]
  },
  {
   "cell_type": "code",
   "execution_count": 40,
   "metadata": {},
   "outputs": [],
   "source": [
    "# Get CNN labels\n",
    "y_cnn_train = cnn.predict(x_train_ds)\n",
    "y_gen = cnn.predict(x_gen)"
   ]
  },
  {
   "cell_type": "markdown",
   "metadata": {},
   "source": [
    "Now we combine both the original training data and the generated data, as well as their new soft target labels, and shuffle them:"
   ]
  },
  {
   "cell_type": "code",
   "execution_count": 41,
   "metadata": {},
   "outputs": [
    {
     "name": "stdout",
     "output_type": "stream",
     "text": [
      "x_both ==> (50000, 784)\n",
      "y_both ==> (50000, 10)\n"
     ]
    }
   ],
   "source": [
    "# Combine x_train and x_gen\n",
    "x_both = join_data([x_train_ds, x_gen])\n",
    "\n",
    "# Flatten them to use it with our interpretable model\n",
    "x_both = x_both.reshape((x_both.shape[0], -1))\n",
    "\n",
    "# Combine y_cnn_train and y_gen\n",
    "y_both = join_data([y_cnn_train, y_gen])\n",
    "\n",
    "# Shuffle the data\n",
    "x_both, y_both = shuffle(x_both, y_both)\n",
    "\n",
    "print(\"x_both ==>\", np.shape(x_both))\n",
    "print(\"y_both ==>\", np.shape(y_both))"
   ]
  },
  {
   "cell_type": "markdown",
   "metadata": {},
   "source": [
    "Thus, we have increased our training data to 50000, where each sample now has a soft target produced from the CNN model, which we are going to approximate."
   ]
  },
  {
   "cell_type": "markdown",
   "metadata": {},
   "source": [
    "# Stage 4: Train our interpretable model, the SDT"
   ]
  },
  {
   "cell_type": "markdown",
   "metadata": {},
   "source": [
    "## 1) SDT using only the original data with original hard targets"
   ]
  },
  {
   "cell_type": "code",
   "execution_count": 42,
   "metadata": {},
   "outputs": [],
   "source": [
    "# Create SDT\n",
    "sdt_raw = SoftBinaryDecisionTree(\n",
    "    name = \"sdt_raw_mnist_ds\",\n",
    "    num_inputs = n_features,\n",
    "    num_outputs = n_classes,\n",
    "    # If true, training info is outputted to stdout\n",
    "    keras_verbose = False,\n",
    "    # A summary of the NN is printed to stdout\n",
    "    print_model_summary = False,\n",
    "    # Hyperparameters\n",
    "    max_depth = 4,\n",
    "    penalty_strength = 1e+1,\n",
    "    penalty_decay = 0.25,\n",
    "    inv_temp = 0.01,\n",
    "    ema_win_size = 1000,\n",
    "    # The learning rate used in optimization\n",
    "    learning_rate = 5e-03,\n",
    "    epochs = 40,\n",
    "    batch_size = 4,\n",
    "    # If this many stagnant epochs are seen, stop training\n",
    "    stopping_patience = 20\n",
    ")"
   ]
  },
  {
   "cell_type": "code",
   "execution_count": 43,
   "metadata": {},
   "outputs": [
    {
     "name": "stdout",
     "output_type": "stream",
     "text": [
      "Built tree has 16 leaves out of 31 nodes\n",
      "INFO:tensorflow:Restoring parameters from /home/zander/thesis/vitrify/models/sdt_raw_mnist_ds/sdt_raw_mnist_ds\n",
      "Loaded sdt_raw_mnist_ds model from disk\n"
     ]
    }
   ],
   "source": [
    "# Train SDT RAW\n",
    "sdt_raw.train(\n",
    "    x_train_flat_ds, y_train_one_hot_ds,\n",
    "    x_valid_flat_ds, y_valid_one_hot_ds, load_model=True)"
   ]
  },
  {
   "cell_type": "code",
   "execution_count": 44,
   "metadata": {},
   "outputs": [
    {
     "name": "stdout",
     "output_type": "stream",
     "text": [
      "accuracy: 75.86% | loss: 8.86850087890625\n"
     ]
    }
   ],
   "source": [
    "# Evaluate SDT RAW\n",
    "sdt_raw_results = sdt_raw.evaluate(x_test_flat_ds, y_test_one_hot_ds)"
   ]
  },
  {
   "cell_type": "markdown",
   "metadata": {},
   "source": [
    "## 2) SDT using only the original data with new soft targets (provided by the CNN in the third stage)"
   ]
  },
  {
   "cell_type": "code",
   "execution_count": 45,
   "metadata": {},
   "outputs": [],
   "source": [
    "# Create SDT CNN\n",
    "sdt_cnn = SoftBinaryDecisionTree(\n",
    "    name = \"sdt_cnn_mnist_ds\",\n",
    "    num_inputs = n_features,\n",
    "    num_outputs = n_classes\n",
    ")"
   ]
  },
  {
   "cell_type": "code",
   "execution_count": 46,
   "metadata": {},
   "outputs": [
    {
     "name": "stdout",
     "output_type": "stream",
     "text": [
      "Built tree has 16 leaves out of 31 nodes\n",
      "INFO:tensorflow:Restoring parameters from /home/zander/thesis/vitrify/models/sdt_cnn_mnist_ds/sdt_cnn_mnist_ds\n",
      "Loaded sdt_cnn_mnist_ds model from disk\n"
     ]
    }
   ],
   "source": [
    "# Train SDT CNN\n",
    "sdt_cnn.train(\n",
    "    x_train_flat_ds, y_cnn_train,\n",
    "    x_valid_flat_ds, y_valid_one_hot_ds, load_model=True)"
   ]
  },
  {
   "cell_type": "code",
   "execution_count": 47,
   "metadata": {},
   "outputs": [
    {
     "name": "stdout",
     "output_type": "stream",
     "text": [
      "accuracy: 82.22% | loss: 8.652463981628419\n"
     ]
    }
   ],
   "source": [
    "# Evaluate SDT CNN\n",
    "sdt_cnn_results = sdt_cnn.evaluate(x_test_flat_ds, y_test_one_hot_ds)"
   ]
  },
  {
   "cell_type": "markdown",
   "metadata": {},
   "source": [
    "## 3) SDT using the generated and the original data with soft targets"
   ]
  },
  {
   "cell_type": "code",
   "execution_count": 48,
   "metadata": {},
   "outputs": [],
   "source": [
    "# Create SDT VAE\n",
    "sdt_vae = SoftBinaryDecisionTree(\n",
    "    name = \"sdt_cnn_vae_mnist_ds\",\n",
    "    num_inputs = n_features,\n",
    "    num_outputs = n_classes\n",
    ")"
   ]
  },
  {
   "cell_type": "code",
   "execution_count": 49,
   "metadata": {},
   "outputs": [
    {
     "name": "stdout",
     "output_type": "stream",
     "text": [
      "Built tree has 16 leaves out of 31 nodes\n",
      "INFO:tensorflow:Restoring parameters from /home/zander/thesis/vitrify/models/sdt_cnn_vae_mnist_ds/sdt_cnn_vae_mnist_ds\n",
      "Loaded sdt_cnn_vae_mnist_ds model from disk\n"
     ]
    }
   ],
   "source": [
    "# Train SDT VAE\n",
    "sdt_vae.train(\n",
    "    x_both, y_both,\n",
    "    x_valid_flat_ds, y_valid_one_hot_ds, load_model=True)"
   ]
  },
  {
   "cell_type": "code",
   "execution_count": 50,
   "metadata": {},
   "outputs": [
    {
     "name": "stdout",
     "output_type": "stream",
     "text": [
      "accuracy: 87.26% | loss: 7.421390251541138\n"
     ]
    }
   ],
   "source": [
    "# Evaluate SDT VAE\n",
    "sdt_vae_results = sdt_vae.evaluate(x_test_flat_ds, y_test_one_hot_ds)"
   ]
  },
  {
   "cell_type": "markdown",
   "metadata": {},
   "source": [
    "Now it is clear that the SDT with the generated data outperformed the other SDT models. From both experiments, it seems that there is an asymptotic upper limit to the performance of the SDT. With constant depth, adding more labeled data can help the model reach this level, but not surpass it. When too much data is added, we introduce noise to the model, leading to our performance declining."
   ]
  }
 ],
 "metadata": {
  "kernelspec": {
   "display_name": "Python 3",
   "language": "python",
   "name": "python3"
  },
  "language_info": {
   "codemirror_mode": {
    "name": "ipython",
    "version": 3
   },
   "file_extension": ".py",
   "mimetype": "text/x-python",
   "name": "python",
   "nbconvert_exporter": "python",
   "pygments_lexer": "ipython3",
   "version": "3.6.6"
  }
 },
 "nbformat": 4,
 "nbformat_minor": 1
}
